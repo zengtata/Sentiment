{
 "cells": [
  {
   "metadata": {},
   "cell_type": "markdown",
   "source": "# 1. Environment Setup & Imports",
   "id": "b98fb1ca86319026"
  },
  {
   "metadata": {
    "ExecuteTime": {
     "end_time": "2025-02-28T16:38:22.746136Z",
     "start_time": "2025-02-28T16:38:10.133056Z"
    }
   },
   "cell_type": "code",
   "source": [
    "import re\n",
    "import string\n",
    "import torch\n",
    "import numpy as np\n",
    "import matplotlib.pyplot as plt\n",
    "import pandas as pd\n",
    "import seaborn as sns\n",
    "from sklearn.metrics import confusion_matrix, accuracy_score, f1_score, precision_score, recall_score\n",
    "from sklearn.model_selection import StratifiedShuffleSplit\n",
    "from torch import nn, optim\n",
    "from torch.utils.data import DataLoader, TensorDataset\n",
    "from tqdm.auto import tqdm\n",
    "from transformers import (\n",
    "    DistilBertTokenizer,\n",
    "    DistilBertForSequenceClassification,\n",
    "    DistilBertConfig,\n",
    "    get_scheduler\n",
    ")\n",
    "import optuna"
   ],
   "id": "1ac352504c1cee5c",
   "outputs": [],
   "execution_count": 1
  },
  {
   "metadata": {
    "ExecuteTime": {
     "end_time": "2025-02-28T16:38:22.792327Z",
     "start_time": "2025-02-28T16:38:22.772321Z"
    }
   },
   "cell_type": "code",
   "source": [
    "# Set reproducibility\n",
    "SEED = 42\n",
    "torch.manual_seed(SEED)\n",
    "np.random.seed(SEED)\n",
    "torch.backends.cudnn.benchmark = True\n",
    "torch.backends.cudnn.deterministic = True"
   ],
   "id": "3608641c43e6e55f",
   "outputs": [],
   "execution_count": 2
  },
  {
   "metadata": {},
   "cell_type": "markdown",
   "source": "# 2. Data Loading and Preprocessing",
   "id": "51dd802715a868a3"
  },
  {
   "metadata": {
    "ExecuteTime": {
     "end_time": "2025-02-28T17:54:49.618309Z",
     "start_time": "2025-02-28T17:54:43.432399Z"
    }
   },
   "cell_type": "code",
   "source": [
    "def load_and_preprocess_data():\n",
    "    df = pd.read_csv('all_it_jobs2.csv')\n",
    "    columns_to_keep = ['review_text', 'sentiment']\n",
    "    df = df[columns_to_keep].dropna(subset=['review_text'])\n",
    "    \n",
    "    label_map = {\"Negative\": 0, \"Neutral\": 1, \"Positive\": 2}\n",
    "    df['label'] = df['sentiment'].map(label_map)\n",
    "    \n",
    "    # Sampling 500 per sentiment (with replacement)\n",
    "    df_sampled = (df.groupby(\"sentiment\")\n",
    "                  .sample(n=1000, random_state=SEED, replace=True)\n",
    "                  .reset_index(drop=True))\n",
    "    \n",
    "    print(\"=== Sample reviews (raw) ===\")\n",
    "    print(df_sampled['review_text'].head(3).to_list())\n",
    "    \n",
    "    # Enhanced text cleaning: lowercase, remove URLs, punctuation, and extra spaces.\n",
    "    def clean_text(text):\n",
    "        text = str(text).lower()\n",
    "        text = re.sub(r'http\\S+|www\\S+', '', text)\n",
    "        text = re.sub(r'[{}]'.format(re.escape(string.punctuation)), '', text)\n",
    "        text = re.sub(r'\\s+', ' ', text).strip()\n",
    "        return text\n",
    "    \n",
    "    df_sampled['cleaned_review'] = df_sampled['review_text'].apply(clean_text)\n",
    "    print(\"\\n=== Sample reviews (cleaned) ===\")\n",
    "    print(df_sampled['cleaned_review'].head(3).to_list())\n",
    "    return df_sampled\n",
    "\n",
    "\n",
    "df_sampled = load_and_preprocess_data()"
   ],
   "id": "9cc1afd3311649ef",
   "outputs": [
    {
     "name": "stdout",
     "output_type": "stream",
     "text": [
      "=== Sample reviews (raw) ===\n",
      "[\"**Company To AVOID** Disgusting management, 0 structure in the company, toxic CEO Remote working ( and when you start to know the boss, you understand why it's better like that ) The CEO. Certified bad boss, I invite you to do research on the guy and you'll understand the pattern, it's not his first company that crash because of big turnover and inexistent customer support. He's known by lawyers in Tel Aviv as much as his employees attack him in court. Strictly no opportunity for growth in this company, and the pay is anyway not attractive with no more than 12 days of holidays a year. He still didn't pay me the pension that he owe me. Real lunatic , you'll need a lot of patience and self control to handle the Ceo\", 'Software engineer Immense opportunity to learn and ownership of projects end to end No work life balance and no wfh options and 45hrs/week strict criteria', 'Not a very good environment to work 1. transport is good\\r\\n2. food provided by company\\r\\n3. perks 1. Internal politics\\r\\n2. work/life balance is poor']\n",
      "\n",
      "=== Sample reviews (cleaned) ===\n",
      "['company to avoid disgusting management 0 structure in the company toxic ceo remote working and when you start to know the boss you understand why its better like that the ceo certified bad boss i invite you to do research on the guy and youll understand the pattern its not his first company that crash because of big turnover and inexistent customer support hes known by lawyers in tel aviv as much as his employees attack him in court strictly no opportunity for growth in this company and the pay is anyway not attractive with no more than 12 days of holidays a year he still didnt pay me the pension that he owe me real lunatic youll need a lot of patience and self control to handle the ceo', 'software engineer immense opportunity to learn and ownership of projects end to end no work life balance and no wfh options and 45hrsweek strict criteria', 'not a very good environment to work 1 transport is good 2 food provided by company 3 perks 1 internal politics 2 worklife balance is poor']\n"
     ]
    }
   ],
   "execution_count": 15
  },
  {
   "metadata": {},
   "cell_type": "markdown",
   "source": "# 3. Tokenization (Global Initialization)",
   "id": "ee59f332141ff47f"
  },
  {
   "metadata": {
    "ExecuteTime": {
     "end_time": "2025-02-28T17:54:53.987948Z",
     "start_time": "2025-02-28T17:54:49.670310Z"
    }
   },
   "cell_type": "code",
   "source": [
    "# Initialize the tokenizer once for efficiency.\n",
    "tokenizer = DistilBertTokenizer.from_pretrained('distilbert-base-uncased')\n",
    "\n",
    "def tokenize_data(df, max_length=256):\n",
    "    return tokenizer(\n",
    "        text=df['cleaned_review'].tolist(),\n",
    "        padding='max_length',\n",
    "        truncation=True,\n",
    "        max_length=max_length,\n",
    "        return_tensors='pt',\n",
    "        add_special_tokens=True,\n",
    "        return_attention_mask=True,\n",
    "        return_token_type_ids=False\n",
    "    )\n",
    "\n",
    "# Tokenize the sampled data\n",
    "tokenized = tokenize_data(df_sampled)\n",
    "input_ids = tokenized['input_ids']\n",
    "attention_mask = tokenized['attention_mask']\n",
    "labels = torch.tensor(df_sampled['label'].values, dtype=torch.long)"
   ],
   "id": "3d79249f28613963",
   "outputs": [],
   "execution_count": 16
  },
  {
   "metadata": {},
   "cell_type": "markdown",
   "source": "# 4. Stratified Data Splitting\n",
   "id": "476c269f8fbab141"
  },
  {
   "metadata": {
    "ExecuteTime": {
     "end_time": "2025-02-28T17:54:54.033467Z",
     "start_time": "2025-02-28T17:54:54.019460Z"
    }
   },
   "cell_type": "code",
   "source": [
    "def stratified_split(inputs, masks, labels, test_size=0.3):\n",
    "    sss = StratifiedShuffleSplit(n_splits=1, test_size=test_size, random_state=SEED)\n",
    "    train_idx, temp_idx = next(sss.split(inputs, labels))\n",
    "    return (inputs[train_idx], masks[train_idx], labels[train_idx]), \\\n",
    "           (inputs[temp_idx], masks[temp_idx], labels[temp_idx])\n",
    "\n",
    "# Split data into train, validation, and test sets\n",
    "(train_inputs, train_masks, train_labels), (temp_inputs, temp_masks, temp_labels) = stratified_split(input_ids, attention_mask, labels)\n",
    "(val_inputs, val_masks, val_labels), (test_inputs, test_masks, test_labels) = stratified_split(temp_inputs, temp_masks, temp_labels, test_size=0.5)"
   ],
   "id": "3dea85157eb052af",
   "outputs": [],
   "execution_count": 17
  },
  {
   "metadata": {},
   "cell_type": "markdown",
   "source": "# 5. DataLoader Utility",
   "id": "45443a19b9af38e5"
  },
  {
   "metadata": {
    "ExecuteTime": {
     "end_time": "2025-02-28T17:54:54.143983Z",
     "start_time": "2025-02-28T17:54:54.129985Z"
    }
   },
   "cell_type": "code",
   "source": [
    "def create_dataloader(inputs, masks, labels, batch_size, shuffle=False):\n",
    "    return DataLoader(\n",
    "        TensorDataset(inputs, masks, labels),\n",
    "        batch_size=batch_size,\n",
    "        shuffle=shuffle,\n",
    "        num_workers=4,\n",
    "        pin_memory=True,\n",
    "        prefetch_factor=2\n",
    "    )"
   ],
   "id": "14ee1d555b4fc96",
   "outputs": [],
   "execution_count": 18
  },
  {
   "metadata": {},
   "cell_type": "markdown",
   "source": "# 6. Validation and Evaluation Functions",
   "id": "9568da664068b98d"
  },
  {
   "metadata": {
    "ExecuteTime": {
     "end_time": "2025-02-28T17:54:54.191982Z",
     "start_time": "2025-02-28T17:54:54.180984Z"
    }
   },
   "cell_type": "code",
   "source": [
    "def validate(model, val_loader, device):\n",
    "    model.eval()\n",
    "    all_preds, all_labels = [], []\n",
    "    with torch.no_grad(), torch.autocast(device_type='cuda', dtype=torch.float16):\n",
    "        for batch in val_loader:\n",
    "            inputs, masks, lbls = [t.to(device, non_blocking=True) for t in batch]\n",
    "            logits = model(inputs, attention_mask=masks).logits\n",
    "            preds = logits.argmax(dim=-1)\n",
    "            all_preds.extend(preds.cpu().numpy())\n",
    "            all_labels.extend(lbls.cpu().numpy())\n",
    "    acc = accuracy_score(all_labels, all_preds)\n",
    "    f1 = f1_score(all_labels, all_preds, average='macro')\n",
    "    precision = precision_score(all_labels, all_preds, average='macro')\n",
    "    recall = recall_score(all_labels, all_preds, average='macro')\n",
    "    return acc, f1, precision, recall"
   ],
   "id": "dd9cd50eaf321156",
   "outputs": [],
   "execution_count": 19
  },
  {
   "metadata": {
    "ExecuteTime": {
     "end_time": "2025-02-28T17:54:54.255502Z",
     "start_time": "2025-02-28T17:54:54.241508Z"
    }
   },
   "cell_type": "code",
   "source": [
    "def evaluate_with_metrics(model, test_loader, device):\n",
    "    model.eval()\n",
    "    all_preds, all_labels = [], []\n",
    "    with torch.no_grad(), torch.autocast(device_type='cuda', dtype=torch.float16):\n",
    "        for batch in test_loader:\n",
    "            inputs, masks, lbls = [t.to(device, non_blocking=True) for t in batch]\n",
    "            logits = model(inputs, attention_mask=masks).logits\n",
    "            preds = logits.argmax(dim=-1)\n",
    "            all_preds.extend(preds.cpu().numpy())\n",
    "            all_labels.extend(lbls.cpu().numpy())\n",
    "    acc = accuracy_score(all_labels, all_preds)\n",
    "    f1 = f1_score(all_labels, all_preds, average='macro')\n",
    "    precision = precision_score(all_labels, all_preds, average='macro')\n",
    "    recall = recall_score(all_labels, all_preds, average='macro')\n",
    "    cm = confusion_matrix(all_labels, all_preds)\n",
    "    print(f\"Test Accuracy: {acc:.4f}\")\n",
    "    print(f\"Test Precision: {precision:.4f}\")\n",
    "    print(f\"Test Recall: {recall:.4f}\")\n",
    "    print(f\"Test F1 Score: {f1:.4f}\")\n",
    "    return cm, acc, f1, precision, recall"
   ],
   "id": "fa1c1c489a65282",
   "outputs": [],
   "execution_count": 20
  },
  {
   "metadata": {},
   "cell_type": "markdown",
   "source": "# 7. Training Function with Mixed Precision",
   "id": "7db46fcd80a9f731"
  },
  {
   "metadata": {
    "ExecuteTime": {
     "end_time": "2025-02-28T17:54:54.318511Z",
     "start_time": "2025-02-28T17:54:54.297507Z"
    }
   },
   "cell_type": "code",
   "source": [
    "def optimized_train(model, train_loader, optimizer, scheduler, params, device):\n",
    "    model.train()\n",
    "    total_loss = 0\n",
    "    scaler = torch.amp.GradScaler(\"cuda\")\n",
    "    optimizer.zero_grad()\n",
    "    for step, batch in enumerate(tqdm(train_loader, desc=\"Training\")):\n",
    "        inputs, masks, lbls = [t.to(device, non_blocking=True) for t in batch]\n",
    "        with torch.autocast(device_type='cuda', dtype=torch.float16):\n",
    "            outputs = model(inputs, attention_mask=masks, labels=lbls)\n",
    "            loss = outputs.loss / params['grad_accum_steps']\n",
    "        scaler.scale(loss).backward()\n",
    "        if (step + 1) % params['grad_accum_steps'] == 0:\n",
    "            scaler.unscale_(optimizer)\n",
    "            nn.utils.clip_grad_norm_(model.parameters(), params['grad_clip'])\n",
    "            scaler.step(optimizer)\n",
    "            scaler.update()\n",
    "            optimizer.zero_grad()\n",
    "            scheduler.step()\n",
    "        total_loss += loss.item() * params['grad_accum_steps']\n",
    "    return total_loss / len(train_loader)"
   ],
   "id": "46e09c0b580427a6",
   "outputs": [],
   "execution_count": 21
  },
  {
   "metadata": {},
   "cell_type": "markdown",
   "source": "# 8. Hyperparameter Tuning with Optuna (Optional)",
   "id": "70e36d2e0020ac5"
  },
  {
   "metadata": {
    "ExecuteTime": {
     "end_time": "2025-02-28T17:54:54.946086Z",
     "start_time": "2025-02-28T17:54:54.917575Z"
    }
   },
   "cell_type": "code",
   "source": [
    "USE_OPTUNA = False  # Change to True to enable Optuna tuning\n",
    "\n",
    "default_params = {\n",
    "    'lr': 3e-5,\n",
    "    'weight_decay': 1e-5,\n",
    "    'num_epochs': 5,\n",
    "    'hidden_dropout': 0.3,\n",
    "    'attention_dropout': 0.3,\n",
    "    'batch_size': 32,\n",
    "    'grad_clip': 1.0,\n",
    "    'grad_accum_steps': 1\n",
    "}\n",
    "\n",
    "def run_optuna(train_inputs, train_masks, train_labels, val_inputs, val_masks, val_labels, device):\n",
    "    def objective(trial):\n",
    "        params = {\n",
    "            'lr': trial.suggest_float('lr', 1e-5, 5e-5, log=True),\n",
    "            'weight_decay': trial.suggest_float('weight_decay', 1e-6, 1e-4, log=True),\n",
    "            'num_epochs': trial.suggest_int('num_epochs', 5, 10),\n",
    "            'hidden_dropout': trial.suggest_float('hidden_dropout', 0.2, 0.4),\n",
    "            'attention_dropout': trial.suggest_float('attention_dropout', 0.2, 0.4),\n",
    "            'batch_size': trial.suggest_categorical('batch_size', [32, 64]),\n",
    "            'grad_clip': trial.suggest_float('grad_clip', 0.5, 1.5),\n",
    "            'grad_accum_steps': trial.suggest_int('grad_accum_steps', 1, 2)\n",
    "        }\n",
    "        print(f\"\\n--- Starting trial with params: {params} ---\")\n",
    "        train_loader = create_dataloader(train_inputs, train_masks, train_labels, params['batch_size'], shuffle=True)\n",
    "        val_loader = create_dataloader(val_inputs, val_masks, val_labels, params['batch_size'])\n",
    "        \n",
    "        config = DistilBertConfig.from_pretrained(\n",
    "            'distilbert-base-uncased',\n",
    "            num_labels=3,\n",
    "            hidden_dropout_prob=params['hidden_dropout'],\n",
    "            attention_probs_dropout_prob=params['attention_dropout']\n",
    "        )\n",
    "        model = DistilBertForSequenceClassification.from_pretrained('distilbert-base-uncased', config=config).to(device)\n",
    "        \n",
    "        optimizer = optim.AdamW(model.parameters(), lr=params['lr'], weight_decay=params['weight_decay'])\n",
    "        total_steps = (len(train_loader) // params['grad_accum_steps']) * params['num_epochs']\n",
    "        scheduler = get_scheduler('linear', optimizer, num_warmup_steps=int(total_steps * 0.1), num_training_steps=total_steps)\n",
    "        scaler = torch.amp.GradScaler(device_type='cuda')\n",
    "        \n",
    "        best_f1 = 0\n",
    "        for epoch in range(params['num_epochs']):\n",
    "            model.train()\n",
    "            optimizer.zero_grad()\n",
    "            for step, batch in enumerate(train_loader):\n",
    "                inputs, masks, lbls = [t.to(device, non_blocking=True) for t in batch]\n",
    "                with torch.autocast(device_type='cuda', dtype=torch.float16):\n",
    "                    outputs = model(inputs, attention_mask=masks, labels=lbls)\n",
    "                    loss = outputs.loss / params['grad_accum_steps']\n",
    "                scaler.scale(loss).backward()\n",
    "                if (step + 1) % params['grad_accum_steps'] == 0:\n",
    "                    scaler.unscale_(optimizer)\n",
    "                    nn.utils.clip_grad_norm_(model.parameters(), params['grad_clip'])\n",
    "                    scaler.step(optimizer)\n",
    "                    scaler.update()\n",
    "                    optimizer.zero_grad()\n",
    "                    scheduler.step()\n",
    "            acc, f1, _, _ = validate(model, val_loader, device)\n",
    "            print(f\"Trial {trial.number}, Epoch {epoch+1}/{params['num_epochs']} - Val Acc: {acc:.4f}, Val F1: {f1:.4f}\")\n",
    "            trial.report(f1, epoch)\n",
    "            if trial.should_prune():\n",
    "                print(\"Trial pruned!\")\n",
    "                raise optuna.TrialPruned()\n",
    "            best_f1 = max(best_f1, f1)\n",
    "        print(f\"Trial {trial.number} finished with best validation F1: {best_f1:.4f}\")\n",
    "        return best_f1\n",
    "\n",
    "    study = optuna.create_study(\n",
    "        direction='maximize',\n",
    "        sampler=optuna.samplers.TPESampler(seed=SEED),\n",
    "        pruner=optuna.pruners.MedianPruner(n_warmup_steps=1)\n",
    "    )\n",
    "    study.optimize(objective, n_trials=20, n_jobs=1, show_progress_bar=True)\n",
    "    best_params = study.best_params.copy()\n",
    "    print(\"\\nBest Hyperparameters Found:\")\n",
    "    print(best_params)\n",
    "    return best_params"
   ],
   "id": "d32acd78c26c22e9",
   "outputs": [],
   "execution_count": 22
  },
  {
   "metadata": {},
   "cell_type": "markdown",
   "source": "# 9. Final Training with Best Parameters",
   "id": "d4ce91b587343398"
  },
  {
   "metadata": {
    "ExecuteTime": {
     "end_time": "2025-02-28T18:27:32.295891Z",
     "start_time": "2025-02-28T17:54:57.429555Z"
    }
   },
   "cell_type": "code",
   "source": [
    "device = torch.device('cuda' if torch.cuda.is_available() else 'cpu')\n",
    "print(f\"Using device: {device}\")\n",
    "\n",
    "# (Re)load and preprocess data\n",
    "df_sampled = load_and_preprocess_data()\n",
    "tokenized = tokenize_data(df_sampled)\n",
    "input_ids = tokenized['input_ids']\n",
    "attention_mask = tokenized['attention_mask']\n",
    "labels = torch.tensor(df_sampled['label'].values, dtype=torch.long)\n",
    "\n",
    "# Stratified split\n",
    "(train_inputs, train_masks, train_labels), (temp_inputs, temp_masks, temp_labels) = stratified_split(input_ids, attention_mask, labels)\n",
    "(val_inputs, val_masks, val_labels), (test_inputs, test_masks, test_labels) = stratified_split(temp_inputs, temp_masks, temp_labels, test_size=0.5)\n",
    "\n",
    "# Choose hyperparameters\n",
    "if USE_OPTUNA:\n",
    "    best_params = run_optuna(train_inputs, train_masks, train_labels, val_inputs, val_masks, val_labels, device)\n",
    "else:\n",
    "    best_params = default_params\n",
    "    print(\"\\nUsing default hyperparameters:\")\n",
    "    print(best_params)\n",
    "\n",
    "# Prepare DataLoaders\n",
    "train_loader = create_dataloader(train_inputs, train_masks, train_labels, best_params['batch_size'], shuffle=True)\n",
    "val_loader = create_dataloader(val_inputs, val_masks, val_labels, best_params['batch_size'])\n",
    "test_loader = create_dataloader(test_inputs, test_masks, test_labels, best_params['batch_size'])\n",
    "\n",
    "# Final model initialization\n",
    "config = DistilBertConfig.from_pretrained(\n",
    "    'distilbert-base-uncased',\n",
    "    num_labels=3,\n",
    "    hidden_dropout_prob=best_params['hidden_dropout'],\n",
    "    attention_probs_dropout_prob=best_params['attention_dropout']\n",
    ")\n",
    "model = DistilBertForSequenceClassification.from_pretrained('distilbert-base-uncased', config=config).to(device)\n",
    "\n",
    "optimizer = optim.AdamW(model.parameters(), lr=best_params['lr'], weight_decay=best_params['weight_decay'])\n",
    "total_steps = (len(train_loader) // best_params['grad_accum_steps']) * best_params['num_epochs']\n",
    "scheduler = get_scheduler('linear', optimizer, num_warmup_steps=int(total_steps * 0.1), num_training_steps=total_steps)\n",
    "\n",
    "# Training loop with early stopping based on F1 score\n",
    "train_losses = []\n",
    "val_accuracies = []\n",
    "val_f1_scores = []\n",
    "best_val_f1 = 0\n",
    "patience_counter = 0\n",
    "\n",
    "for epoch in range(best_params['num_epochs']):\n",
    "    train_loss = optimized_train(model, train_loader, optimizer, scheduler, best_params, device)\n",
    "    train_losses.append(train_loss)\n",
    "    \n",
    "    acc, f1, _, _ = validate(model, val_loader, device)\n",
    "    val_accuracies.append(acc)\n",
    "    val_f1_scores.append(f1)\n",
    "    \n",
    "    print(f\"Epoch {epoch+1}: Train Loss = {train_loss:.4f}, Val Acc = {acc:.4f}, Val F1 = {f1:.4f}\")\n",
    "    \n",
    "    if f1 > best_val_f1:\n",
    "        best_val_f1 = f1\n",
    "        patience_counter = 0\n",
    "        torch.save(model.state_dict(), 'best_uncased_bert_model.pth')\n",
    "    else:\n",
    "        patience_counter += 1\n",
    "        if patience_counter >= 3:\n",
    "            print(\"Early stopping triggered\")\n",
    "            break"
   ],
   "id": "1741c042d01a1938",
   "outputs": [
    {
     "name": "stdout",
     "output_type": "stream",
     "text": [
      "Using device: cuda\n",
      "=== Sample reviews (raw) ===\n",
      "[\"**Company To AVOID** Disgusting management, 0 structure in the company, toxic CEO Remote working ( and when you start to know the boss, you understand why it's better like that ) The CEO. Certified bad boss, I invite you to do research on the guy and you'll understand the pattern, it's not his first company that crash because of big turnover and inexistent customer support. He's known by lawyers in Tel Aviv as much as his employees attack him in court. Strictly no opportunity for growth in this company, and the pay is anyway not attractive with no more than 12 days of holidays a year. He still didn't pay me the pension that he owe me. Real lunatic , you'll need a lot of patience and self control to handle the Ceo\", 'Software engineer Immense opportunity to learn and ownership of projects end to end No work life balance and no wfh options and 45hrs/week strict criteria', 'Not a very good environment to work 1. transport is good\\r\\n2. food provided by company\\r\\n3. perks 1. Internal politics\\r\\n2. work/life balance is poor']\n",
      "\n",
      "=== Sample reviews (cleaned) ===\n",
      "['company to avoid disgusting management 0 structure in the company toxic ceo remote working and when you start to know the boss you understand why its better like that the ceo certified bad boss i invite you to do research on the guy and youll understand the pattern its not his first company that crash because of big turnover and inexistent customer support hes known by lawyers in tel aviv as much as his employees attack him in court strictly no opportunity for growth in this company and the pay is anyway not attractive with no more than 12 days of holidays a year he still didnt pay me the pension that he owe me real lunatic youll need a lot of patience and self control to handle the ceo', 'software engineer immense opportunity to learn and ownership of projects end to end no work life balance and no wfh options and 45hrsweek strict criteria', 'not a very good environment to work 1 transport is good 2 food provided by company 3 perks 1 internal politics 2 worklife balance is poor']\n",
      "\n",
      "Using default hyperparameters:\n",
      "{'lr': 3e-05, 'weight_decay': 1e-05, 'num_epochs': 5, 'hidden_dropout': 0.3, 'attention_dropout': 0.3, 'batch_size': 32, 'grad_clip': 1.0, 'grad_accum_steps': 1}\n"
     ]
    },
    {
     "name": "stderr",
     "output_type": "stream",
     "text": [
      "Some weights of DistilBertForSequenceClassification were not initialized from the model checkpoint at distilbert-base-uncased and are newly initialized: ['classifier.bias', 'classifier.weight', 'pre_classifier.bias', 'pre_classifier.weight']\n",
      "You should probably TRAIN this model on a down-stream task to be able to use it for predictions and inference.\n"
     ]
    },
    {
     "data": {
      "text/plain": [
       "Training:   0%|          | 0/66 [00:00<?, ?it/s]"
      ],
      "application/vnd.jupyter.widget-view+json": {
       "version_major": 2,
       "version_minor": 0,
       "model_id": "9622d6784367439cac0458483226eeb5"
      }
     },
     "metadata": {},
     "output_type": "display_data"
    },
    {
     "name": "stdout",
     "output_type": "stream",
     "text": [
      "Epoch 1: Train Loss = 0.9670, Val Acc = 0.6333, Val F1 = 0.6363\n"
     ]
    },
    {
     "data": {
      "text/plain": [
       "Training:   0%|          | 0/66 [00:00<?, ?it/s]"
      ],
      "application/vnd.jupyter.widget-view+json": {
       "version_major": 2,
       "version_minor": 0,
       "model_id": "8727a40e5d384d24bb2b96ca3a88bf05"
      }
     },
     "metadata": {},
     "output_type": "display_data"
    },
    {
     "name": "stdout",
     "output_type": "stream",
     "text": [
      "Epoch 2: Train Loss = 0.6979, Val Acc = 0.6600, Val F1 = 0.6621\n"
     ]
    },
    {
     "data": {
      "text/plain": [
       "Training:   0%|          | 0/66 [00:00<?, ?it/s]"
      ],
      "application/vnd.jupyter.widget-view+json": {
       "version_major": 2,
       "version_minor": 0,
       "model_id": "da29d2aa00d24ceaaa7cb48802bc8b46"
      }
     },
     "metadata": {},
     "output_type": "display_data"
    },
    {
     "name": "stdout",
     "output_type": "stream",
     "text": [
      "Epoch 3: Train Loss = 0.5425, Val Acc = 0.6667, Val F1 = 0.6694\n"
     ]
    },
    {
     "data": {
      "text/plain": [
       "Training:   0%|          | 0/66 [00:00<?, ?it/s]"
      ],
      "application/vnd.jupyter.widget-view+json": {
       "version_major": 2,
       "version_minor": 0,
       "model_id": "407ff8f322114ab9bc91df3e1eb0629f"
      }
     },
     "metadata": {},
     "output_type": "display_data"
    },
    {
     "name": "stdout",
     "output_type": "stream",
     "text": [
      "Epoch 4: Train Loss = 0.4146, Val Acc = 0.6867, Val F1 = 0.6891\n"
     ]
    },
    {
     "data": {
      "text/plain": [
       "Training:   0%|          | 0/66 [00:00<?, ?it/s]"
      ],
      "application/vnd.jupyter.widget-view+json": {
       "version_major": 2,
       "version_minor": 0,
       "model_id": "a7f8b16c0fc54f80a4c9f75ad58e6eb2"
      }
     },
     "metadata": {},
     "output_type": "display_data"
    },
    {
     "name": "stdout",
     "output_type": "stream",
     "text": [
      "Epoch 5: Train Loss = 0.3228, Val Acc = 0.6733, Val F1 = 0.6749\n"
     ]
    }
   ],
   "execution_count": 23
  },
  {
   "metadata": {},
   "cell_type": "markdown",
   "source": "# 10. Plot Training Curves",
   "id": "382116e60014fd3d"
  },
  {
   "metadata": {
    "ExecuteTime": {
     "end_time": "2025-02-28T18:27:32.998605Z",
     "start_time": "2025-02-28T18:27:32.487425Z"
    }
   },
   "cell_type": "code",
   "source": [
    "plt.figure(figsize=(12, 5))\n",
    "plt.subplot(1, 2, 1)\n",
    "plt.plot(train_losses, label='Training Loss', color='blue', marker='o')\n",
    "plt.title('Training Loss Over Epochs')\n",
    "plt.xlabel('Epoch')\n",
    "plt.ylabel('Loss')\n",
    "plt.legend()\n",
    "\n",
    "plt.subplot(1, 2, 2)\n",
    "plt.plot(val_f1_scores, label='Validation F1', color='green', marker='o')\n",
    "plt.title('Validation F1 Over Epochs')\n",
    "plt.xlabel('Epoch')\n",
    "plt.ylabel('F1 Score')\n",
    "plt.legend()\n",
    "\n",
    "plt.tight_layout()\n",
    "plt.show()"
   ],
   "id": "1706f0d45edfed70",
   "outputs": [
    {
     "data": {
      "text/plain": [
       "<Figure size 1200x500 with 2 Axes>"
      ],
      "image/png": "[encoded data removed]"
     },
     "metadata": {},
     "output_type": "display_data"
    }
   ],
   "execution_count": 24
  },
  {
   "metadata": {},
   "cell_type": "markdown",
   "source": "# 11. Final Evaluation and Visualization",
   "id": "599462f7caf29c74"
  },
  {
   "metadata": {
    "ExecuteTime": {
     "end_time": "2025-02-28T18:28:13.560875Z",
     "start_time": "2025-02-28T18:27:44.574904Z"
    }
   },
   "cell_type": "code",
   "source": [
    "model.load_state_dict(torch.load('best_uncased_bert_model.pth'))\n",
    "cm, test_acc, test_f1, test_precision, test_recall = evaluate_with_metrics(model, test_loader, device)\n",
    "\n",
    "plt.figure(figsize=(8, 6))\n",
    "sns.heatmap(cm, annot=True, fmt='d', cmap='Blues',\n",
    "            xticklabels=['Negative', 'Neutral', 'Positive'],\n",
    "            yticklabels=['Negative', 'Neutral', 'Positive'])\n",
    "plt.title(f'Confusion Matrix (Test Accuracy: {test_acc:.2%})')\n",
    "plt.xlabel('Predicted Label')\n",
    "plt.ylabel('True Label')\n",
    "plt.show()"
   ],
   "id": "dc70d818754a496f",
   "outputs": [
    {
     "name": "stderr",
     "output_type": "stream",
     "text": [
      "C:\\Users\\KomPhone\\AppData\\Local\\Temp\\ipykernel_10508\\870329772.py:1: FutureWarning: You are using `torch.load` with `weights_only=False` (the current default value), which uses the default pickle module implicitly. It is possible to construct malicious pickle data which will execute arbitrary code during unpickling (See https://github.com/pytorch/pytorch/blob/main/SECURITY.md#untrusted-models for more details). In a future release, the default value for `weights_only` will be flipped to `True`. This limits the functions that could be executed during unpickling. Arbitrary objects will no longer be allowed to be loaded via this mode unless they are explicitly allowlisted by the user via `torch.serialization.add_safe_globals`. We recommend you start setting `weights_only=True` for any use case where you don't have full control of the loaded file. Please open an issue on GitHub for any issues related to this experimental feature.\n",
      "  model.load_state_dict(torch.load('best_uncased_bert_model.pth'))\n"
     ]
    },
    {
     "name": "stdout",
     "output_type": "stream",
     "text": [
      "Test Accuracy: 0.7333\n",
      "Test Precision: 0.7425\n",
      "Test Recall: 0.7333\n",
      "Test F1 Score: 0.7364\n"
     ]
    },
    {
     "data": {
      "text/plain": [
       "<Figure size 800x600 with 2 Axes>"
      ],
      "image/png": "[encoded data removed]"
     },
     "metadata": {},
     "output_type": "display_data"
    }
   ],
   "execution_count": 25
  },
  {
   "metadata": {},
   "cell_type": "markdown",
   "source": "# 12. Save Model and Tokenizer",
   "id": "83bb861b0d679b2b"
  },
  {
   "metadata": {},
   "cell_type": "code",
   "source": [
    "#model.save_pretrained('best_uncased_bert_model')\n",
    "#tokenizer.save_pretrained('best_uncased_bert_model')"
   ],
   "id": "2005665b44f9cf2a",
   "outputs": [],
   "execution_count": 14
  }
 ],
 "metadata": {
  "kernelspec": {
   "display_name": "Python 3",
   "language": "python",
   "name": "python3"
  },
  "language_info": {
   "codemirror_mode": {
    "name": "ipython",
    "version": 2
   },
   "file_extension": ".py",
   "mimetype": "text/x-python",
   "name": "python",
   "nbconvert_exporter": "python",
   "pygments_lexer": "ipython2",
   "version": "2.7.6"
  }
 },
 "nbformat": 4,
 "nbformat_minor": 5
}
