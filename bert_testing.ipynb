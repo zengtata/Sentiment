{
 "cells": [
  {
   "cell_type": "code",
   "id": "initial_id",
   "metadata": {
    "collapsed": true,
    "ExecuteTime": {
     "end_time": "2025-01-28T12:43:49.150384Z",
     "start_time": "2025-01-28T12:43:46.426840Z"
    }
   },
   "source": [
    "import pandas as pd\n",
    "# Step 1: Load and preprocess the dataset\n",
    "# Load the dataset\n",
    "df = pd.read_csv('Dataset_1/it_jobs.csv')\n",
    "\n",
    "# Drop rows with missing values in relevant columns\n",
    "df = df.dropna(subset=['review_text', 'sentiment'])\n",
    "\n",
    "# Map sentiment to binary labels\n",
    "label_map = {\"Neutral\": 2, \"Positive\": 1, \"Negative\": 0}  # Modify as per dataset\n",
    "df['label'] = df['sentiment'].map(label_map)\n",
    "\n",
    "# Balance the dataset by sampling 5000 samples per class\n",
    "df_sampled = (\n",
    "    df.groupby('label').sample(n=5000, random_state=42).reset_index(drop=True)\n",
    ")\n",
    "# Verify the resulting counts\n",
    "print(df_sampled[\"label\"].value_counts())\n"
   ],
   "outputs": [
    {
     "ename": "ValueError",
     "evalue": "need at least one array to concatenate",
     "output_type": "error",
     "traceback": [
      "\u001B[1;31m---------------------------------------------------------------------------\u001B[0m",
      "\u001B[1;31mValueError\u001B[0m                                Traceback (most recent call last)",
      "Cell \u001B[1;32mIn[2], line 15\u001B[0m\n\u001B[0;32m     11\u001B[0m df[\u001B[38;5;124m'\u001B[39m\u001B[38;5;124mlabel\u001B[39m\u001B[38;5;124m'\u001B[39m] \u001B[38;5;241m=\u001B[39m df[\u001B[38;5;124m'\u001B[39m\u001B[38;5;124msentiment\u001B[39m\u001B[38;5;124m'\u001B[39m]\u001B[38;5;241m.\u001B[39mmap(label_map)\n\u001B[0;32m     13\u001B[0m \u001B[38;5;66;03m# Balance the dataset by sampling 5000 samples per class\u001B[39;00m\n\u001B[0;32m     14\u001B[0m df_sampled \u001B[38;5;241m=\u001B[39m (\n\u001B[1;32m---> 15\u001B[0m     \u001B[43mdf\u001B[49m\u001B[38;5;241;43m.\u001B[39;49m\u001B[43mgroupby\u001B[49m\u001B[43m(\u001B[49m\u001B[38;5;124;43m'\u001B[39;49m\u001B[38;5;124;43mlabel\u001B[39;49m\u001B[38;5;124;43m'\u001B[39;49m\u001B[43m)\u001B[49m\u001B[38;5;241;43m.\u001B[39;49m\u001B[43msample\u001B[49m\u001B[43m(\u001B[49m\u001B[43mn\u001B[49m\u001B[38;5;241;43m=\u001B[39;49m\u001B[38;5;241;43m5000\u001B[39;49m\u001B[43m,\u001B[49m\u001B[43m \u001B[49m\u001B[43mrandom_state\u001B[49m\u001B[38;5;241;43m=\u001B[39;49m\u001B[38;5;241;43m42\u001B[39;49m\u001B[43m)\u001B[49m\u001B[38;5;241m.\u001B[39mreset_index(drop\u001B[38;5;241m=\u001B[39m\u001B[38;5;28;01mTrue\u001B[39;00m)\n\u001B[0;32m     16\u001B[0m )\n\u001B[0;32m     17\u001B[0m \u001B[38;5;66;03m# Verify the resulting counts\u001B[39;00m\n\u001B[0;32m     18\u001B[0m \u001B[38;5;28mprint\u001B[39m(df_sampled[\u001B[38;5;124m\"\u001B[39m\u001B[38;5;124mlabel\u001B[39m\u001B[38;5;124m\"\u001B[39m]\u001B[38;5;241m.\u001B[39mvalue_counts())\n",
      "File \u001B[1;32m~\\anaconda3\\envs\\ML\\lib\\site-packages\\pandas\\core\\groupby\\groupby.py:5789\u001B[0m, in \u001B[0;36mGroupBy.sample\u001B[1;34m(self, n, frac, replace, weights, random_state)\u001B[0m\n\u001B[0;32m   5780\u001B[0m     grp_sample \u001B[38;5;241m=\u001B[39m sample\u001B[38;5;241m.\u001B[39msample(\n\u001B[0;32m   5781\u001B[0m         group_size,\n\u001B[0;32m   5782\u001B[0m         size\u001B[38;5;241m=\u001B[39msample_size,\n\u001B[1;32m   (...)\u001B[0m\n\u001B[0;32m   5785\u001B[0m         random_state\u001B[38;5;241m=\u001B[39mrandom_state,\n\u001B[0;32m   5786\u001B[0m     )\n\u001B[0;32m   5787\u001B[0m     sampled_indices\u001B[38;5;241m.\u001B[39mappend(grp_indices[grp_sample])\n\u001B[1;32m-> 5789\u001B[0m sampled_indices \u001B[38;5;241m=\u001B[39m \u001B[43mnp\u001B[49m\u001B[38;5;241;43m.\u001B[39;49m\u001B[43mconcatenate\u001B[49m\u001B[43m(\u001B[49m\u001B[43msampled_indices\u001B[49m\u001B[43m)\u001B[49m\n\u001B[0;32m   5790\u001B[0m \u001B[38;5;28;01mreturn\u001B[39;00m \u001B[38;5;28mself\u001B[39m\u001B[38;5;241m.\u001B[39m_selected_obj\u001B[38;5;241m.\u001B[39mtake(sampled_indices, axis\u001B[38;5;241m=\u001B[39m\u001B[38;5;28mself\u001B[39m\u001B[38;5;241m.\u001B[39maxis)\n",
      "\u001B[1;31mValueError\u001B[0m: need at least one array to concatenate"
     ]
    }
   ],
   "execution_count": 2
  },
  {
   "metadata": {
    "ExecuteTime": {
     "end_time": "2025-01-21T13:54:44.918531Z",
     "start_time": "2025-01-21T13:54:44.751987Z"
    }
   },
   "cell_type": "code",
   "source": [
    "# Step 2: Preprocess the text minimally (no stopword removal or lemmatization)\n",
    "import re\n",
    "\n",
    "def preprocess_text(text):\n",
    "    text = text.lower()\n",
    "    text = re.sub(r'http\\S+|www\\S+', '', text)  # Remove URLs\n",
    "    text = re.sub(r'[^a-zA-Z0-9\\s]', '', text)  # Remove special characters\n",
    "    text = re.sub(r'\\s+', ' ', text).strip()    # Remove extra whitespace\n",
    "    return text\n",
    "\n",
    "df_sampled['cleaned_review'] = df_sampled['review_text'].apply(preprocess_text)"
   ],
   "id": "251ca78735feb7ec",
   "outputs": [],
   "execution_count": 2
  },
  {
   "metadata": {
    "ExecuteTime": {
     "end_time": "2025-01-21T13:55:08.681273Z",
     "start_time": "2025-01-21T13:54:45.220595Z"
    }
   },
   "cell_type": "code",
   "source": [
    "# Step 3: Tokenize the text\n",
    "\n",
    "from transformers import DistilBertTokenizer, DistilBertForSequenceClassification\n",
    "import torch\n",
    "\n",
    "# Load the tokenizer\n",
    "tokenizer = DistilBertTokenizer.from_pretrained('distilbert-base-uncased')\n",
    "\n",
    "# Tokenize the cleaned reviews\n",
    "tokenized_reviews = tokenizer(\n",
    "    list(df_sampled['cleaned_review']),\n",
    "    padding=True,\n",
    "    truncation=True,\n",
    "    max_length=256,\n",
    "    return_tensors='pt'\n",
    ")\n",
    "\n",
    "# Create tensors for input IDs, attention masks, and labels\n",
    "input_ids = tokenized_reviews['input_ids']\n",
    "attention_mask = tokenized_reviews['attention_mask']\n",
    "labels = torch.tensor(df_sampled['label'].values, dtype=torch.long)"
   ],
   "id": "2321fd51ddf632ff",
   "outputs": [],
   "execution_count": 3
  },
  {
   "metadata": {
    "ExecuteTime": {
     "end_time": "2025-01-21T13:55:08.760292Z",
     "start_time": "2025-01-21T13:55:08.715286Z"
    }
   },
   "cell_type": "code",
   "source": [
    "# Step 4: Split the data into training, validation, and test sets\n",
    "\n",
    "from sklearn.model_selection import train_test_split\n",
    "train_inputs, temp_inputs, train_masks, temp_masks, train_labels, temp_labels = train_test_split(\n",
    "    input_ids, attention_mask, labels, test_size=0.3, random_state=42\n",
    ")\n",
    "val_inputs, test_inputs, val_masks, test_masks, val_labels, test_labels = train_test_split(\n",
    "    temp_inputs, temp_masks, temp_labels, test_size=0.5, random_state=42\n",
    ")"
   ],
   "id": "5076f0f607401348",
   "outputs": [],
   "execution_count": 4
  },
  {
   "metadata": {
    "ExecuteTime": {
     "end_time": "2025-01-21T13:55:08.808295Z",
     "start_time": "2025-01-21T13:55:08.794297Z"
    }
   },
   "cell_type": "code",
   "source": [
    "# Step 5: Create DataLoader objects for training, validation, and test sets\n",
    "\n",
    "from torch.utils.data import DataLoader, TensorDataset\n",
    "batch_size = 32\n",
    "\n",
    "def create_dataloader(inputs, masks, labels, batch_size, shuffle=False):\n",
    "    data = TensorDataset(inputs, masks, labels)\n",
    "    return DataLoader(data, batch_size=batch_size, shuffle=shuffle, num_workers=4)\n",
    "\n",
    "train_dataloader = create_dataloader(train_inputs, train_masks, train_labels, batch_size, shuffle=True)\n",
    "val_dataloader = create_dataloader(val_inputs, val_masks, val_labels, batch_size)\n",
    "test_dataloader = create_dataloader(test_inputs, test_masks, test_labels, batch_size)"
   ],
   "id": "c042f5b71afd283d",
   "outputs": [],
   "execution_count": 5
  },
  {
   "metadata": {
    "ExecuteTime": {
     "end_time": "2025-01-21T13:55:08.934334Z",
     "start_time": "2025-01-21T13:55:08.840814Z"
    }
   },
   "cell_type": "code",
   "source": [
    "# Step 6a: Check if GPU is available\n",
    "device = torch.device('cuda' if torch.cuda.is_available() else 'cpu')\n",
    "print(f\"Using device: {device}\")"
   ],
   "id": "cb6f94f11d7735c",
   "outputs": [
    {
     "name": "stdout",
     "output_type": "stream",
     "text": [
      "Using device: cuda\n"
     ]
    }
   ],
   "execution_count": 6
  },
  {
   "metadata": {
    "ExecuteTime": {
     "end_time": "2025-01-21T13:55:10.138909Z",
     "start_time": "2025-01-21T13:55:08.968333Z"
    }
   },
   "cell_type": "code",
   "source": [
    "# Step 6b: Load the pre-trained model\n",
    "model = DistilBertForSequenceClassification.from_pretrained('distilbert-base-uncased', num_labels=2)\n",
    "model.to(device)"
   ],
   "id": "8baf6381538a9781",
   "outputs": [
    {
     "name": "stderr",
     "output_type": "stream",
     "text": [
      "Some weights of DistilBertForSequenceClassification were not initialized from the model checkpoint at distilbert-base-uncased and are newly initialized: ['classifier.bias', 'classifier.weight', 'pre_classifier.bias', 'pre_classifier.weight']\n",
      "You should probably TRAIN this model on a down-stream task to be able to use it for predictions and inference.\n"
     ]
    },
    {
     "data": {
      "text/plain": [
       "DistilBertForSequenceClassification(\n",
       "  (distilbert): DistilBertModel(\n",
       "    (embeddings): Embeddings(\n",
       "      (word_embeddings): Embedding(30522, 768, padding_idx=0)\n",
       "      (position_embeddings): Embedding(512, 768)\n",
       "      (LayerNorm): LayerNorm((768,), eps=1e-12, elementwise_affine=True)\n",
       "      (dropout): Dropout(p=0.1, inplace=False)\n",
       "    )\n",
       "    (transformer): Transformer(\n",
       "      (layer): ModuleList(\n",
       "        (0-5): 6 x TransformerBlock(\n",
       "          (attention): DistilBertSdpaAttention(\n",
       "            (dropout): Dropout(p=0.1, inplace=False)\n",
       "            (q_lin): Linear(in_features=768, out_features=768, bias=True)\n",
       "            (k_lin): Linear(in_features=768, out_features=768, bias=True)\n",
       "            (v_lin): Linear(in_features=768, out_features=768, bias=True)\n",
       "            (out_lin): Linear(in_features=768, out_features=768, bias=True)\n",
       "          )\n",
       "          (sa_layer_norm): LayerNorm((768,), eps=1e-12, elementwise_affine=True)\n",
       "          (ffn): FFN(\n",
       "            (dropout): Dropout(p=0.1, inplace=False)\n",
       "            (lin1): Linear(in_features=768, out_features=3072, bias=True)\n",
       "            (lin2): Linear(in_features=3072, out_features=768, bias=True)\n",
       "            (activation): GELUActivation()\n",
       "          )\n",
       "          (output_layer_norm): LayerNorm((768,), eps=1e-12, elementwise_affine=True)\n",
       "        )\n",
       "      )\n",
       "    )\n",
       "  )\n",
       "  (pre_classifier): Linear(in_features=768, out_features=768, bias=True)\n",
       "  (classifier): Linear(in_features=768, out_features=2, bias=True)\n",
       "  (dropout): Dropout(p=0.2, inplace=False)\n",
       ")"
      ]
     },
     "execution_count": 7,
     "metadata": {},
     "output_type": "execute_result"
    }
   ],
   "execution_count": 7
  },
  {
   "metadata": {
    "ExecuteTime": {
     "end_time": "2025-01-21T13:55:10.218579Z",
     "start_time": "2025-01-21T13:55:10.194942Z"
    }
   },
   "cell_type": "code",
   "source": [
    "# Step 7: Define optimizer, scheduler, and loss function\n",
    "from torch import nn, optim\n",
    "from transformers import get_scheduler\n",
    "\n",
    "optimizer = optim.AdamW(model.parameters(), lr=1e-5)\n",
    "loss_function = nn.CrossEntropyLoss()\n",
    "scheduler = get_scheduler(\"linear\", optimizer=optimizer, num_warmup_steps=0, num_training_steps=len(train_dataloader) * 3)"
   ],
   "id": "d8e3ff9ee751e634",
   "outputs": [],
   "execution_count": 8
  },
  {
   "metadata": {
    "ExecuteTime": {
     "end_time": "2025-01-21T13:55:10.265383Z",
     "start_time": "2025-01-21T13:55:10.255103Z"
    }
   },
   "cell_type": "code",
   "source": [
    "# Step 8a: Define training functions\n",
    "def train(model, dataloader, optimizer, scheduler, loss_function, device):\n",
    "    model.train()\n",
    "    total_loss = 0\n",
    "    correct_predictions = 0\n",
    "    total_samples = 0\n",
    "\n",
    "    for batch in dataloader:\n",
    "        batch_input_ids, batch_attention_mask, batch_labels = [t.to(device) for t in batch]\n",
    "\n",
    "        optimizer.zero_grad()\n",
    "\n",
    "        outputs = model(input_ids=batch_input_ids, attention_mask=batch_attention_mask, labels=batch_labels)\n",
    "        loss = outputs.loss\n",
    "        logits = outputs.logits\n",
    "\n",
    "        loss.backward()\n",
    "        optimizer.step()\n",
    "        scheduler.step()\n",
    "\n",
    "        total_loss += loss.item()\n",
    "        preds = torch.argmax(logits, dim=1)\n",
    "        correct_predictions += (preds == batch_labels).sum().item()\n",
    "        total_samples += batch_labels.size(0)\n",
    "\n",
    "    avg_loss = total_loss / len(dataloader)\n",
    "    accuracy = correct_predictions / total_samples * 100\n",
    "    return avg_loss, accuracy"
   ],
   "id": "150f7f054a768f2e",
   "outputs": [],
   "execution_count": 9
  },
  {
   "metadata": {
    "ExecuteTime": {
     "end_time": "2025-01-21T13:55:10.312384Z",
     "start_time": "2025-01-21T13:55:10.298384Z"
    }
   },
   "cell_type": "code",
   "source": [
    "# Step 8b: Define evaluation functions\n",
    "def evaluate(model, dataloader, loss_function, device):\n",
    "    model.eval()\n",
    "    total_loss = 0\n",
    "    correct_predictions = 0\n",
    "    total_samples = 0\n",
    "\n",
    "    with torch.no_grad():\n",
    "        for batch in dataloader:\n",
    "            batch_input_ids, batch_attention_mask, batch_labels = [t.to(device) for t in batch]\n",
    "\n",
    "            outputs = model(input_ids=batch_input_ids, attention_mask=batch_attention_mask, labels=batch_labels)\n",
    "            loss = outputs.loss\n",
    "            logits = outputs.logits\n",
    "\n",
    "            total_loss += loss.item()\n",
    "            preds = torch.argmax(logits, dim=1)\n",
    "            correct_predictions += (preds == batch_labels).sum().item()\n",
    "            total_samples += batch_labels.size(0)\n",
    "\n",
    "    avg_loss = total_loss / len(dataloader)\n",
    "    accuracy = correct_predictions / total_samples * 100\n",
    "    return avg_loss, accuracy"
   ],
   "id": "3676563dcfb0a049",
   "outputs": [],
   "execution_count": 10
  },
  {
   "metadata": {
    "ExecuteTime": {
     "end_time": "2025-01-21T14:12:19.912516Z",
     "start_time": "2025-01-21T13:55:10.345904Z"
    }
   },
   "cell_type": "code",
   "source": [
    "# Step 9: Training loop\n",
    "num_epochs = 3\n",
    "\n",
    "for epoch in range(num_epochs):\n",
    "    print(f\"\\nStarting Epoch {epoch + 1}...\")\n",
    "\n",
    "    train_loss, train_accuracy = train(model, train_dataloader, optimizer, scheduler, loss_function, device)\n",
    "    print(f\"Epoch {epoch + 1} - Training Loss: {train_loss:.4f}, Training Accuracy: {train_accuracy:.2f}%\")\n",
    "    val_loss, val_accuracy = evaluate(model, val_dataloader, loss_function, device)\n",
    "    print(f\"Epoch {epoch + 1} - Validation Loss: {val_loss:.4f}, Validation Accuracy: {val_accuracy:.2f}%\")"
   ],
   "id": "22e66431f0a95ba0",
   "outputs": [
    {
     "name": "stdout",
     "output_type": "stream",
     "text": [
      "\n",
      "Starting Epoch 1...\n",
      "Epoch 1 - Training Loss: 0.5758, Training Accuracy: 69.29%\n",
      "Epoch 1 - Validation Loss: 0.4842, Validation Accuracy: 77.05%\n",
      "\n",
      "Starting Epoch 2...\n",
      "Epoch 2 - Training Loss: 0.4480, Training Accuracy: 79.22%\n",
      "Epoch 2 - Validation Loss: 0.4666, Validation Accuracy: 78.29%\n",
      "\n",
      "Starting Epoch 3...\n",
      "Epoch 3 - Training Loss: 0.4084, Training Accuracy: 82.00%\n",
      "Epoch 3 - Validation Loss: 0.4691, Validation Accuracy: 78.38%\n"
     ]
    }
   ],
   "execution_count": 11
  },
  {
   "metadata": {
    "ExecuteTime": {
     "end_time": "2025-01-21T14:12:49.613221Z",
     "start_time": "2025-01-21T14:12:19.943606Z"
    }
   },
   "cell_type": "code",
   "source": [
    "# Step 10: Evaluate on test data\n",
    "test_loss, test_accuracy = evaluate(model, test_dataloader, loss_function, device)\n",
    "print(f\"\\nTest Loss: {test_loss:.4f}, Test Accuracy: {test_accuracy:.2f}%\")\n"
   ],
   "id": "f42aeb9dad28e0b7",
   "outputs": [
    {
     "name": "stdout",
     "output_type": "stream",
     "text": [
      "\n",
      "Test Loss: 0.4710, Test Accuracy: 78.48%\n"
     ]
    }
   ],
   "execution_count": 12
  },
  {
   "metadata": {
    "ExecuteTime": {
     "end_time": "2025-01-21T14:12:49.707190Z",
     "start_time": "2025-01-21T14:12:49.697156Z"
    }
   },
   "cell_type": "code",
   "source": "",
   "id": "95783cae86bf561f",
   "outputs": [],
   "execution_count": null
  }
 ],
 "metadata": {
  "kernelspec": {
   "display_name": "Python 3",
   "language": "python",
   "name": "python3"
  },
  "language_info": {
   "codemirror_mode": {
    "name": "ipython",
    "version": 2
   },
   "file_extension": ".py",
   "mimetype": "text/x-python",
   "name": "python",
   "nbconvert_exporter": "python",
   "pygments_lexer": "ipython2",
   "version": "2.7.6"
  }
 },
 "nbformat": 4,
 "nbformat_minor": 5
}
